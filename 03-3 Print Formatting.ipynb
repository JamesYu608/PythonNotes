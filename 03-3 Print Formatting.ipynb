{
 "cells": [
  {
   "cell_type": "markdown",
   "metadata": {},
   "source": [
    "# Print Formatting"
   ]
  },
  {
   "cell_type": "markdown",
   "metadata": {},
   "source": [
    "## String"
   ]
  },
  {
   "cell_type": "code",
   "execution_count": 29,
   "metadata": {
    "collapsed": true
   },
   "outputs": [],
   "source": [
    "name = \"James\"\n",
    "age = 28"
   ]
  },
  {
   "cell_type": "markdown",
   "metadata": {},
   "source": [
    "%s"
   ]
  },
  {
   "cell_type": "code",
   "execution_count": 30,
   "metadata": {
    "collapsed": false
   },
   "outputs": [
    {
     "name": "stdout",
     "output_type": "stream",
     "text": [
      "Name: James, Age: 28\n"
     ]
    }
   ],
   "source": [
    "print \"Name: %s, Age: %s\" %(name, age)"
   ]
  },
  {
   "cell_type": "markdown",
   "metadata": {},
   "source": [
    "%s或%r"
   ]
  },
  {
   "cell_type": "code",
   "execution_count": 31,
   "metadata": {
    "collapsed": false
   },
   "outputs": [
    {
     "name": "stdout",
     "output_type": "stream",
     "text": [
      "Name: James, Age: 28\n"
     ]
    }
   ],
   "source": [
    "# 差別在於使用的method，分別為str() / repr() (目前還不知道這兩個method的差別的話沒關係)\n",
    "print \"Name: %s, Age: %r\" %(name, age)"
   ]
  },
  {
   "cell_type": "markdown",
   "metadata": {},
   "source": [
    "上面的方法，變數必須照順序，且若要使用相同的變數也需要重複指定，有需要的話可以用"
   ]
  },
  {
   "cell_type": "code",
   "execution_count": 1,
   "metadata": {
    "collapsed": false,
    "scrolled": true
   },
   "outputs": [
    {
     "name": "stdout",
     "output_type": "stream",
     "text": [
      "Favorite color - James: red, Tom: blue, Mark: red\n"
     ]
    }
   ],
   "source": [
    "print \"Favorite color - James: {r}, Tom: {b}, Mark: {r}\".format(b=\"blue\", r=\"red\")"
   ]
  },
  {
   "cell_type": "markdown",
   "metadata": {},
   "source": [
    "### <font color='red'>Python 3 Alert!</font>\n",
    "在print(\"string\")的場合，單純用()將原本的用法包起來即可"
   ]
  },
  {
   "cell_type": "code",
   "execution_count": 35,
   "metadata": {
    "collapsed": false
   },
   "outputs": [
    {
     "name": "stdout",
     "output_type": "stream",
     "text": [
      "Favorite color - James: red, Tom: blue, Mark: red\n"
     ]
    }
   ],
   "source": [
    "from __future__ import print_function\n",
    "print (\"Favorite color - James: {r}, Tom: {b}, Mark: {r}\".format(b=\"blue\", r=\"red\"))"
   ]
  },
  {
   "cell_type": "markdown",
   "metadata": {},
   "source": [
    "## Float"
   ]
  },
  {
   "cell_type": "code",
   "execution_count": 5,
   "metadata": {
    "collapsed": true
   },
   "outputs": [],
   "source": [
    "number = 12.345"
   ]
  },
  {
   "cell_type": "markdown",
   "metadata": {},
   "source": [
    "格式: %a.bf\n",
    "\n",
    "a表示要顯示幾個字元(含.號)，若小於要顯示的字元則沒事，若大於的話會在前面加上**\"空白\"**填滿字元\n",
    "\n",
    "b表示小數部分要顯示幾位數，若小於number的小數位數會**\"截斷\"**，若大於的話會在後面加上**\"0\"**填滿位數"
   ]
  },
  {
   "cell_type": "code",
   "execution_count": 16,
   "metadata": {
    "collapsed": false,
    "scrolled": true
   },
   "outputs": [
    {
     "name": "stdout",
     "output_type": "stream",
     "text": [
      "Float point number: 12.35\n"
     ]
    }
   ],
   "source": [
    "print \"Float point number: %1.2f\" %(number)"
   ]
  },
  {
   "cell_type": "code",
   "execution_count": 8,
   "metadata": {
    "collapsed": false
   },
   "outputs": [
    {
     "name": "stdout",
     "output_type": "stream",
     "text": [
      "Float point number: 12.3450000000\n"
     ]
    }
   ],
   "source": [
    "print \"Float point number: %1.10f\" %(number)"
   ]
  },
  {
   "cell_type": "code",
   "execution_count": 23,
   "metadata": {
    "collapsed": false,
    "scrolled": true
   },
   "outputs": [
    {
     "name": "stdout",
     "output_type": "stream",
     "text": [
      "Float point number:  12.35\n"
     ]
    }
   ],
   "source": [
    "# 由於\"12.35\"只有5個字元，這邊指定要顯示6個字元而在前面補了1個空白\n",
    "print \"Float point number: %6.2f\" %(number)"
   ]
  },
  {
   "cell_type": "code",
   "execution_count": null,
   "metadata": {
    "collapsed": true
   },
   "outputs": [],
   "source": []
  }
 ],
 "metadata": {
  "kernelspec": {
   "display_name": "Python 2",
   "language": "python",
   "name": "python2"
  },
  "language_info": {
   "codemirror_mode": {
    "name": "ipython",
    "version": 2
   },
   "file_extension": ".py",
   "mimetype": "text/x-python",
   "name": "python",
   "nbconvert_exporter": "python",
   "pygments_lexer": "ipython2",
   "version": "2.7.11"
  }
 },
 "nbformat": 4,
 "nbformat_minor": 0
}
